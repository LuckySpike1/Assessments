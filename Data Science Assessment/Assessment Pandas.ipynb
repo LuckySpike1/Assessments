{
 "cells": [
  {
   "cell_type": "markdown",
   "metadata": {},
   "source": [
    "## Project description:\n",
    "\n",
    "In this project I will be exploring the dataset by analyzing and visualizing it, I will also make sure it is in the right format before I could build a machine learning model. There will be comments to explain the technical parts of the project to make it easy for my readers to follow.\n",
    "\n",
    "All of this will be followed by an **executive summary** on how my model affects my company on the classification and misclassification of my model. "
   ]
  },
  {
   "cell_type": "markdown",
   "metadata": {},
   "source": [
    "## Importing libraries\n",
    "\n"
   ]
  },
  {
   "cell_type": "code",
   "execution_count": 117,
   "metadata": {},
   "outputs": [],
   "source": [
    "# import pandas as pd\n",
    "# import numpy as np\n",
    "# import matplotlib.pyplot as plt\n",
    "# %matplotlib inline\n",
    "# from matplotlib.colors import ListedColormap\n",
    "\n",
    "# # to automate the NLP extraction...\n",
    "# from sklearn.feature_extraction.text import CountVectorizer\n",
    "\n",
    "\n",
    "\n",
    "\n",
    "# # main ones to focus on for this sprint\n",
    "# from sklearn.linear_model import LogisticRegression\n",
    "# from sklearn.neighbors import KNeighborsClassifier\n",
    "\n",
    "# from sklearn.naive_bayes import GaussianNB\n",
    "\n",
    "\n",
    "# # Covered in sprint 3\n",
    "# from sklearn.tree import DecisionTreeClassifier\n",
    "# from sklearn.ensemble import RandomForestClassifier, AdaBoostClassifier\n",
    "\n",
    "# # Covered in sprint 4\n",
    "# from sklearn.gaussian_process import GaussianProcessClassifier\n",
    "\n",
    "\n"
   ]
  },
  {
   "cell_type": "code",
   "execution_count": 118,
   "metadata": {},
   "outputs": [],
   "source": [
    "#data analysis libraries and \n",
    "import pandas as pd\n",
    "import numpy as np\n",
    "\n",
    "#visualization libraries\n",
    "import matplotlib.pyplot as plt\n",
    "import seaborn as sns\n",
    "%matplotlib inline\n",
    "\n",
    "# Cross_val_score is the new class for today...\n",
    "from sklearn.model_selection import cross_val_score\n",
    "from sklearn.model_selection import train_test_split\n",
    "from sklearn import metrics\n",
    "from sklearn.preprocessing import StandardScaler\n",
    "from sklearn.datasets import make_moons, make_circles, make_classification\n",
    "\n",
    "\n",
    "# Neural Network!!\n",
    "from sklearn.neural_network import MLPClassifier\n",
    "#Machine learning packages\n",
    "from sklearn.linear_model import LogisticRegression #logistic regression\n",
    "from sklearn import svm #support vector Machine\n",
    "from sklearn.svm import SVC\n",
    "from sklearn.ensemble import RandomForestClassifier #Random Forest\n",
    "from sklearn.neighbors import KNeighborsClassifier #KNN\n",
    "from sklearn.naive_bayes import GaussianNB #Naive bayes\n",
    "from sklearn.tree import DecisionTreeClassifier #Decision Tree\n",
    "from sklearn.model_selection import train_test_split #training and testing data split\n",
    "from sklearn import metrics #accuracy measure\n",
    "from sklearn.metrics import confusion_matrix #for confusion matrix\n",
    "from sklearn.ensemble import GradientBoostingClassifier\n",
    "from sklearn.discriminant_analysis import LinearDiscriminantAnalysis\n",
    "from sklearn.discriminant_analysis import QuadraticDiscriminantAnalysis\n",
    "\n",
    "#ignore warnings\n",
    "import warnings\n",
    "warnings.filterwarnings('ignore')"
   ]
  },
  {
   "cell_type": "code",
   "execution_count": 119,
   "metadata": {},
   "outputs": [
    {
     "data": {
      "text/html": [
       "<div>\n",
       "<style scoped>\n",
       "    .dataframe tbody tr th:only-of-type {\n",
       "        vertical-align: middle;\n",
       "    }\n",
       "\n",
       "    .dataframe tbody tr th {\n",
       "        vertical-align: top;\n",
       "    }\n",
       "\n",
       "    .dataframe thead th {\n",
       "        text-align: right;\n",
       "    }\n",
       "</style>\n",
       "<table border=\"1\" class=\"dataframe\">\n",
       "  <thead>\n",
       "    <tr style=\"text-align: right;\">\n",
       "      <th></th>\n",
       "      <th>target_var</th>\n",
       "      <th>feature_1</th>\n",
       "      <th>feature_2</th>\n",
       "      <th>feature_3</th>\n",
       "      <th>feature_4</th>\n",
       "      <th>feature_5</th>\n",
       "      <th>feature_6</th>\n",
       "      <th>feature_7</th>\n",
       "      <th>feature_8</th>\n",
       "      <th>feature_9</th>\n",
       "    </tr>\n",
       "  </thead>\n",
       "  <tbody>\n",
       "    <tr>\n",
       "      <th>0</th>\n",
       "      <td>1</td>\n",
       "      <td>211.3375</td>\n",
       "      <td>0</td>\n",
       "      <td>0</td>\n",
       "      <td>bigollo-16</td>\n",
       "      <td>blue</td>\n",
       "      <td>29.0000</td>\n",
       "      <td>1</td>\n",
       "      <td>sigma</td>\n",
       "      <td>112.877941</td>\n",
       "    </tr>\n",
       "    <tr>\n",
       "      <th>1</th>\n",
       "      <td>1</td>\n",
       "      <td>151.5500</td>\n",
       "      <td>2</td>\n",
       "      <td>1</td>\n",
       "      <td>cantor-33</td>\n",
       "      <td>pink</td>\n",
       "      <td>0.9167</td>\n",
       "      <td>1</td>\n",
       "      <td>sigma</td>\n",
       "      <td>60.291423</td>\n",
       "    </tr>\n",
       "    <tr>\n",
       "      <th>2</th>\n",
       "      <td>0</td>\n",
       "      <td>151.5500</td>\n",
       "      <td>2</td>\n",
       "      <td>1</td>\n",
       "      <td>cantor-33</td>\n",
       "      <td>blue</td>\n",
       "      <td>2.0000</td>\n",
       "      <td>1</td>\n",
       "      <td>sigma</td>\n",
       "      <td>143.794103</td>\n",
       "    </tr>\n",
       "    <tr>\n",
       "      <th>3</th>\n",
       "      <td>0</td>\n",
       "      <td>151.5500</td>\n",
       "      <td>2</td>\n",
       "      <td>1</td>\n",
       "      <td>cantor-33</td>\n",
       "      <td>pink</td>\n",
       "      <td>30.0000</td>\n",
       "      <td>1</td>\n",
       "      <td>sigma</td>\n",
       "      <td>131.278352</td>\n",
       "    </tr>\n",
       "    <tr>\n",
       "      <th>4</th>\n",
       "      <td>0</td>\n",
       "      <td>151.5500</td>\n",
       "      <td>2</td>\n",
       "      <td>1</td>\n",
       "      <td>cantor-33</td>\n",
       "      <td>blue</td>\n",
       "      <td>25.0000</td>\n",
       "      <td>1</td>\n",
       "      <td>sigma</td>\n",
       "      <td>204.415716</td>\n",
       "    </tr>\n",
       "  </tbody>\n",
       "</table>\n",
       "</div>"
      ],
      "text/plain": [
       "   target_var  feature_1  feature_2  feature_3   feature_4 feature_5  \\\n",
       "0           1   211.3375          0          0  bigollo-16      blue   \n",
       "1           1   151.5500          2          1   cantor-33      pink   \n",
       "2           0   151.5500          2          1   cantor-33      blue   \n",
       "3           0   151.5500          2          1   cantor-33      pink   \n",
       "4           0   151.5500          2          1   cantor-33      blue   \n",
       "\n",
       "   feature_6  feature_7 feature_8   feature_9  \n",
       "0    29.0000          1     sigma  112.877941  \n",
       "1     0.9167          1     sigma   60.291423  \n",
       "2     2.0000          1     sigma  143.794103  \n",
       "3    30.0000          1     sigma  131.278352  \n",
       "4    25.0000          1     sigma  204.415716  "
      ]
     },
     "execution_count": 119,
     "metadata": {},
     "output_type": "execute_result"
    }
   ],
   "source": [
    "#We are going to start by loading the data to see the structure\n",
    "data = pd.read_csv('assessment_data.csv')\n",
    "data.head()"
   ]
  },
  {
   "cell_type": "markdown",
   "metadata": {},
   "source": [
    "## Exploratory Data Analysis"
   ]
  },
  {
   "cell_type": "code",
   "execution_count": 120,
   "metadata": {},
   "outputs": [
    {
     "data": {
      "text/plain": [
       "(1309, 10)"
      ]
     },
     "execution_count": 120,
     "metadata": {},
     "output_type": "execute_result"
    }
   ],
   "source": [
    "#We have 1309 rows and 10 features\n",
    "data.shape"
   ]
  },
  {
   "cell_type": "code",
   "execution_count": 121,
   "metadata": {},
   "outputs": [
    {
     "data": {
      "text/html": [
       "<div>\n",
       "<style scoped>\n",
       "    .dataframe tbody tr th:only-of-type {\n",
       "        vertical-align: middle;\n",
       "    }\n",
       "\n",
       "    .dataframe tbody tr th {\n",
       "        vertical-align: top;\n",
       "    }\n",
       "\n",
       "    .dataframe thead th {\n",
       "        text-align: right;\n",
       "    }\n",
       "</style>\n",
       "<table border=\"1\" class=\"dataframe\">\n",
       "  <thead>\n",
       "    <tr style=\"text-align: right;\">\n",
       "      <th></th>\n",
       "      <th>target_var</th>\n",
       "      <th>feature_1</th>\n",
       "      <th>feature_2</th>\n",
       "      <th>feature_3</th>\n",
       "      <th>feature_4</th>\n",
       "      <th>feature_5</th>\n",
       "      <th>feature_6</th>\n",
       "      <th>feature_7</th>\n",
       "      <th>feature_8</th>\n",
       "      <th>feature_9</th>\n",
       "    </tr>\n",
       "  </thead>\n",
       "  <tbody>\n",
       "    <tr>\n",
       "      <th>count</th>\n",
       "      <td>1309.000000</td>\n",
       "      <td>1308.000000</td>\n",
       "      <td>1309.000000</td>\n",
       "      <td>1309.000000</td>\n",
       "      <td>295</td>\n",
       "      <td>1309</td>\n",
       "      <td>1046.000000</td>\n",
       "      <td>1309.000000</td>\n",
       "      <td>1307</td>\n",
       "      <td>1309.000000</td>\n",
       "    </tr>\n",
       "    <tr>\n",
       "      <th>unique</th>\n",
       "      <td>NaN</td>\n",
       "      <td>NaN</td>\n",
       "      <td>NaN</td>\n",
       "      <td>NaN</td>\n",
       "      <td>181</td>\n",
       "      <td>2</td>\n",
       "      <td>NaN</td>\n",
       "      <td>NaN</td>\n",
       "      <td>3</td>\n",
       "      <td>NaN</td>\n",
       "    </tr>\n",
       "    <tr>\n",
       "      <th>top</th>\n",
       "      <td>NaN</td>\n",
       "      <td>NaN</td>\n",
       "      <td>NaN</td>\n",
       "      <td>NaN</td>\n",
       "      <td>fermat</td>\n",
       "      <td>pink</td>\n",
       "      <td>NaN</td>\n",
       "      <td>NaN</td>\n",
       "      <td>sigma</td>\n",
       "      <td>NaN</td>\n",
       "    </tr>\n",
       "    <tr>\n",
       "      <th>freq</th>\n",
       "      <td>NaN</td>\n",
       "      <td>NaN</td>\n",
       "      <td>NaN</td>\n",
       "      <td>NaN</td>\n",
       "      <td>8</td>\n",
       "      <td>843</td>\n",
       "      <td>NaN</td>\n",
       "      <td>NaN</td>\n",
       "      <td>914</td>\n",
       "      <td>NaN</td>\n",
       "    </tr>\n",
       "    <tr>\n",
       "      <th>mean</th>\n",
       "      <td>0.381971</td>\n",
       "      <td>33.295479</td>\n",
       "      <td>0.385027</td>\n",
       "      <td>0.498854</td>\n",
       "      <td>NaN</td>\n",
       "      <td>NaN</td>\n",
       "      <td>29.881135</td>\n",
       "      <td>2.294882</td>\n",
       "      <td>NaN</td>\n",
       "      <td>101.794120</td>\n",
       "    </tr>\n",
       "    <tr>\n",
       "      <th>std</th>\n",
       "      <td>0.486055</td>\n",
       "      <td>51.758668</td>\n",
       "      <td>0.865560</td>\n",
       "      <td>1.041658</td>\n",
       "      <td>NaN</td>\n",
       "      <td>NaN</td>\n",
       "      <td>14.413500</td>\n",
       "      <td>0.837836</td>\n",
       "      <td>NaN</td>\n",
       "      <td>50.890853</td>\n",
       "    </tr>\n",
       "    <tr>\n",
       "      <th>min</th>\n",
       "      <td>0.000000</td>\n",
       "      <td>0.000000</td>\n",
       "      <td>0.000000</td>\n",
       "      <td>0.000000</td>\n",
       "      <td>NaN</td>\n",
       "      <td>NaN</td>\n",
       "      <td>0.166700</td>\n",
       "      <td>1.000000</td>\n",
       "      <td>NaN</td>\n",
       "      <td>-93.974333</td>\n",
       "    </tr>\n",
       "    <tr>\n",
       "      <th>25%</th>\n",
       "      <td>0.000000</td>\n",
       "      <td>7.895800</td>\n",
       "      <td>0.000000</td>\n",
       "      <td>0.000000</td>\n",
       "      <td>NaN</td>\n",
       "      <td>NaN</td>\n",
       "      <td>21.000000</td>\n",
       "      <td>2.000000</td>\n",
       "      <td>NaN</td>\n",
       "      <td>68.550768</td>\n",
       "    </tr>\n",
       "    <tr>\n",
       "      <th>50%</th>\n",
       "      <td>0.000000</td>\n",
       "      <td>14.454200</td>\n",
       "      <td>0.000000</td>\n",
       "      <td>0.000000</td>\n",
       "      <td>NaN</td>\n",
       "      <td>NaN</td>\n",
       "      <td>28.000000</td>\n",
       "      <td>3.000000</td>\n",
       "      <td>NaN</td>\n",
       "      <td>102.039185</td>\n",
       "    </tr>\n",
       "    <tr>\n",
       "      <th>75%</th>\n",
       "      <td>1.000000</td>\n",
       "      <td>31.275000</td>\n",
       "      <td>0.000000</td>\n",
       "      <td>1.000000</td>\n",
       "      <td>NaN</td>\n",
       "      <td>NaN</td>\n",
       "      <td>39.000000</td>\n",
       "      <td>3.000000</td>\n",
       "      <td>NaN</td>\n",
       "      <td>135.175053</td>\n",
       "    </tr>\n",
       "    <tr>\n",
       "      <th>max</th>\n",
       "      <td>1.000000</td>\n",
       "      <td>512.329200</td>\n",
       "      <td>9.000000</td>\n",
       "      <td>8.000000</td>\n",
       "      <td>NaN</td>\n",
       "      <td>NaN</td>\n",
       "      <td>80.000000</td>\n",
       "      <td>3.000000</td>\n",
       "      <td>NaN</td>\n",
       "      <td>264.692290</td>\n",
       "    </tr>\n",
       "  </tbody>\n",
       "</table>\n",
       "</div>"
      ],
      "text/plain": [
       "         target_var    feature_1    feature_2    feature_3 feature_4  \\\n",
       "count   1309.000000  1308.000000  1309.000000  1309.000000       295   \n",
       "unique          NaN          NaN          NaN          NaN       181   \n",
       "top             NaN          NaN          NaN          NaN    fermat   \n",
       "freq            NaN          NaN          NaN          NaN         8   \n",
       "mean       0.381971    33.295479     0.385027     0.498854       NaN   \n",
       "std        0.486055    51.758668     0.865560     1.041658       NaN   \n",
       "min        0.000000     0.000000     0.000000     0.000000       NaN   \n",
       "25%        0.000000     7.895800     0.000000     0.000000       NaN   \n",
       "50%        0.000000    14.454200     0.000000     0.000000       NaN   \n",
       "75%        1.000000    31.275000     0.000000     1.000000       NaN   \n",
       "max        1.000000   512.329200     9.000000     8.000000       NaN   \n",
       "\n",
       "       feature_5    feature_6    feature_7 feature_8    feature_9  \n",
       "count       1309  1046.000000  1309.000000      1307  1309.000000  \n",
       "unique         2          NaN          NaN         3          NaN  \n",
       "top         pink          NaN          NaN     sigma          NaN  \n",
       "freq         843          NaN          NaN       914          NaN  \n",
       "mean         NaN    29.881135     2.294882       NaN   101.794120  \n",
       "std          NaN    14.413500     0.837836       NaN    50.890853  \n",
       "min          NaN     0.166700     1.000000       NaN   -93.974333  \n",
       "25%          NaN    21.000000     2.000000       NaN    68.550768  \n",
       "50%          NaN    28.000000     3.000000       NaN   102.039185  \n",
       "75%          NaN    39.000000     3.000000       NaN   135.175053  \n",
       "max          NaN    80.000000     3.000000       NaN   264.692290  "
      ]
     },
     "execution_count": 121,
     "metadata": {},
     "output_type": "execute_result"
    }
   ],
   "source": [
    "#View the statistical summary of the dataset\n",
    "data.describe(include='all')"
   ]
  },
  {
   "cell_type": "markdown",
   "metadata": {},
   "source": [
    " - In total there are 1309 observations\n",
    " - We can see that feature 4 has about 77%(295 out of 1309) of missing data, so there is no much we can extract from this column, meaning we might have to drop it.\n",
    " - We can see that feature 6 is missing around 20% of data, it is not much, and since because it is numerical, we can find a way to impute missing values. We will explore this later.\n",
    " "
   ]
  },
  {
   "cell_type": "code",
   "execution_count": null,
   "metadata": {},
   "outputs": [],
   "source": []
  },
  {
   "cell_type": "code",
   "execution_count": 122,
   "metadata": {},
   "outputs": [
    {
     "data": {
      "text/plain": [
       "\"' Every yellow point stands for a true point, which is a null, it seems like we are missing lots of feature 4 values, partially feature 6 and very little of feature 8 values with feature 4 missing a lot of values and 1 row of feature 8.  \\nfeature 6 does not have much of the missing values, so we will impute the missing values using the average of feature 6 values. \""
      ]
     },
     "execution_count": 122,
     "metadata": {},
     "output_type": "execute_result"
    },
    {
     "data": {
      "image/png": "[encoded data removed]",
      "text/plain": [
       "<matplotlib.figure.Figure at 0xe4091b0>"
      ]
     },
     "metadata": {},
     "output_type": "display_data"
    }
   ],
   "source": [
    "sns.heatmap(data.isnull(),yticklabels=False,cbar=False,cmap='viridis')\n",
    "'''' Every yellow point stands for a true point, which is a null, it seems like we are missing lots of feature 4 values, partially feature 6 and very little of feature 8 values with feature 4 missing a lot of values and 1 row of feature 8.  \n",
    "feature 6 does not have much of the missing values, so we will impute the missing values using the average of feature 6 values. '''"
   ]
  },
  {
   "cell_type": "markdown",
   "metadata": {},
   "source": [
    "Every yellow point stands for a true point, which is a null, it seems like we are missing lots of feature 4 values, partially feature 6 and very little of feature 8 values. Feature 6 does not have much of the missing values, so we will impute the missing values using the averages."
   ]
  },
  {
   "cell_type": "code",
   "execution_count": 123,
   "metadata": {},
   "outputs": [
    {
     "data": {
      "text/plain": [
       "Text(0.5,1,'target_var')"
      ]
     },
     "execution_count": 123,
     "metadata": {},
     "output_type": "execute_result"
    },
    {
     "data": {
      "image/png": "[encoded data removed]",
      "text/plain": [
       "<matplotlib.figure.Figure at 0xe5201b0>"
      ]
     },
     "metadata": {},
     "output_type": "display_data"
    }
   ],
   "source": [
    "#We are checking the districution of the target class to investigate class imbalancing\n",
    "\n",
    "f,ax=plt.subplots(1,2,figsize=(18,8))\n",
    "data['target_var'].value_counts().plot.pie(explode=[0,0.1],autopct='%1.1f%%',ax=ax[0],shadow=True)\n",
    "ax[0].set_title('target_var')\n",
    "ax[0].set_ylabel('')\n",
    "sns.countplot('target_var',data=data,ax=ax[1])\n",
    "ax[1].set_title('target_var')"
   ]
  },
  {
   "cell_type": "markdown",
   "metadata": {},
   "source": [
    "The data is clearly imbalanced, we will see how we are going to work with this under the modeling section of our project."
   ]
  },
  {
   "cell_type": "code",
   "execution_count": 124,
   "metadata": {},
   "outputs": [
    {
     "data": {
      "text/plain": [
       "array(['blue', 'pink'], dtype=object)"
      ]
     },
     "execution_count": 124,
     "metadata": {},
     "output_type": "execute_result"
    }
   ],
   "source": [
    "#Checking how many categorical features of the dataset we have in feature_5 column\n",
    "data['feature_5'].unique()"
   ]
  },
  {
   "cell_type": "code",
   "execution_count": 125,
   "metadata": {},
   "outputs": [
    {
     "data": {
      "text/plain": [
       "181"
      ]
     },
     "execution_count": 125,
     "metadata": {},
     "output_type": "execute_result"
    }
   ],
   "source": [
    "#Checking the number of unique values there are in feature 4\n",
    "data['feature_4'].nunique()"
   ]
  },
  {
   "cell_type": "code",
   "execution_count": 126,
   "metadata": {},
   "outputs": [
    {
     "data": {
      "text/plain": [
       "array(['sigma', 'gamma', nan, 'qoph'], dtype=object)"
      ]
     },
     "execution_count": 126,
     "metadata": {},
     "output_type": "execute_result"
    }
   ],
   "source": [
    "#Checking how many categorical features of the dataset we have in feature_8 column\n",
    "data['feature_8'].unique()"
   ]
  },
  {
   "cell_type": "code",
   "execution_count": 127,
   "metadata": {},
   "outputs": [],
   "source": [
    "#Since feature_4 has many nulls, we decided to drop it here.\n",
    "data.drop('feature_4',axis=1,inplace=True)"
   ]
  },
  {
   "cell_type": "markdown",
   "metadata": {},
   "source": [
    "---"
   ]
  },
  {
   "cell_type": "markdown",
   "metadata": {},
   "source": [
    "Checking the averages of the unique values in feature 6"
   ]
  },
  {
   "cell_type": "code",
   "execution_count": 128,
   "metadata": {},
   "outputs": [
    {
     "data": {
      "text/plain": [
       "29.245204603580564"
      ]
     },
     "execution_count": 128,
     "metadata": {},
     "output_type": "execute_result"
    }
   ],
   "source": [
    "#Checking the avergaes\n",
    "data[data['feature_8']=='sigma']['feature_6'].mean()"
   ]
  },
  {
   "cell_type": "code",
   "execution_count": 129,
   "metadata": {},
   "outputs": [
    {
     "data": {
      "text/plain": [
       "32.332154245283014"
      ]
     },
     "execution_count": 129,
     "metadata": {},
     "output_type": "execute_result"
    }
   ],
   "source": [
    "data[data['feature_8']=='gamma']['feature_6'].mean()"
   ]
  },
  {
   "cell_type": "code",
   "execution_count": 130,
   "metadata": {},
   "outputs": [
    {
     "data": {
      "text/plain": [
       "28.63"
      ]
     },
     "execution_count": 130,
     "metadata": {},
     "output_type": "execute_result"
    }
   ],
   "source": [
    "data[data['feature_8']=='qoph']['feature_6'].mean()"
   ]
  },
  {
   "cell_type": "markdown",
   "metadata": {},
   "source": [
    "This function just replaces nulls with averages imputes the avergaes, using feature 8 column to impute correctly the values of each category"
   ]
  },
  {
   "cell_type": "code",
   "execution_count": 131,
   "metadata": {},
   "outputs": [],
   "source": [
    "def impute_feature_6(see):\n",
    "    feature_6 = see[0]\n",
    "    feature_8 = see[1]\n",
    "    \n",
    "    if( pd.isnull(feature_6)):\n",
    "        \n",
    "        \n",
    "        if feature_8 == 'sigma':\n",
    "            return 29\n",
    "        elif feature_8 == 'gamma':\n",
    "            return 32\n",
    "        else:\n",
    "            return 28\n",
    "    else:\n",
    "        return feature_6\n",
    "            \n",
    "    "
   ]
  },
  {
   "cell_type": "code",
   "execution_count": 132,
   "metadata": {},
   "outputs": [],
   "source": [
    "data['feature_6'] = data[['feature_6','feature_8']].apply(impute_feature_6,axis=1)"
   ]
  },
  {
   "cell_type": "markdown",
   "metadata": {},
   "source": [
    "#### Correlation between features"
   ]
  },
  {
   "cell_type": "markdown",
   "metadata": {},
   "source": [
    "We are investingating if there are two features which are highly correlated, to see if we can eliminate one of them because it is not advisable to use two features which are highly correlated. Removing one, would boost our model performance and increases the runtime. \n",
    "\n",
    "From the heatmap below it seems like we do not have highly correlated features except for the features which correlates with themselves. So we will proceed with all features"
   ]
  },
  {
   "cell_type": "code",
   "execution_count": 133,
   "metadata": {},
   "outputs": [
    {
     "data": {
      "image/png": "[encoded data removed]",
      "text/plain": [
       "<matplotlib.figure.Figure at 0xe3eb3d0>"
      ]
     },
     "metadata": {},
     "output_type": "display_data"
    }
   ],
   "source": [
    "sns.heatmap(data.corr(),annot=True,cmap='RdYlGn',linewidths=0.2) #data.corr()-->correlation matrix\n",
    "fig=plt.gcf()\n",
    "fig.set_size_inches(10,8)\n",
    "plt.show()"
   ]
  },
  {
   "cell_type": "code",
   "execution_count": 134,
   "metadata": {},
   "outputs": [
    {
     "data": {
      "text/plain": [
       "<matplotlib.axes._subplots.AxesSubplot at 0xe3ebf10>"
      ]
     },
     "execution_count": 134,
     "metadata": {},
     "output_type": "execute_result"
    },
    {
     "data": {
      "image/png": "[encoded data removed]",
      "text/plain": [
       "<matplotlib.figure.Figure at 0xe40a6f0>"
      ]
     },
     "metadata": {},
     "output_type": "display_data"
    }
   ],
   "source": [
    "#Checking remaining null values\n",
    "sns.heatmap(data.isnull(),yticklabels=False,cbar=False,cmap='viridis')"
   ]
  },
  {
   "cell_type": "code",
   "execution_count": 135,
   "metadata": {},
   "outputs": [],
   "source": [
    "data.dropna(inplace=True)"
   ]
  },
  {
   "cell_type": "code",
   "execution_count": 136,
   "metadata": {},
   "outputs": [
    {
     "data": {
      "text/html": [
       "<div>\n",
       "<style scoped>\n",
       "    .dataframe tbody tr th:only-of-type {\n",
       "        vertical-align: middle;\n",
       "    }\n",
       "\n",
       "    .dataframe tbody tr th {\n",
       "        vertical-align: top;\n",
       "    }\n",
       "\n",
       "    .dataframe thead th {\n",
       "        text-align: right;\n",
       "    }\n",
       "</style>\n",
       "<table border=\"1\" class=\"dataframe\">\n",
       "  <thead>\n",
       "    <tr style=\"text-align: right;\">\n",
       "      <th></th>\n",
       "      <th>target_var</th>\n",
       "      <th>feature_1</th>\n",
       "      <th>feature_2</th>\n",
       "      <th>feature_3</th>\n",
       "      <th>feature_5</th>\n",
       "      <th>feature_6</th>\n",
       "      <th>feature_7</th>\n",
       "      <th>feature_8</th>\n",
       "      <th>feature_9</th>\n",
       "    </tr>\n",
       "  </thead>\n",
       "  <tbody>\n",
       "    <tr>\n",
       "      <th>0</th>\n",
       "      <td>1</td>\n",
       "      <td>211.3375</td>\n",
       "      <td>0</td>\n",
       "      <td>0</td>\n",
       "      <td>blue</td>\n",
       "      <td>29.0000</td>\n",
       "      <td>1</td>\n",
       "      <td>sigma</td>\n",
       "      <td>112.877941</td>\n",
       "    </tr>\n",
       "    <tr>\n",
       "      <th>1</th>\n",
       "      <td>1</td>\n",
       "      <td>151.5500</td>\n",
       "      <td>2</td>\n",
       "      <td>1</td>\n",
       "      <td>pink</td>\n",
       "      <td>0.9167</td>\n",
       "      <td>1</td>\n",
       "      <td>sigma</td>\n",
       "      <td>60.291423</td>\n",
       "    </tr>\n",
       "    <tr>\n",
       "      <th>2</th>\n",
       "      <td>0</td>\n",
       "      <td>151.5500</td>\n",
       "      <td>2</td>\n",
       "      <td>1</td>\n",
       "      <td>blue</td>\n",
       "      <td>2.0000</td>\n",
       "      <td>1</td>\n",
       "      <td>sigma</td>\n",
       "      <td>143.794103</td>\n",
       "    </tr>\n",
       "    <tr>\n",
       "      <th>3</th>\n",
       "      <td>0</td>\n",
       "      <td>151.5500</td>\n",
       "      <td>2</td>\n",
       "      <td>1</td>\n",
       "      <td>pink</td>\n",
       "      <td>30.0000</td>\n",
       "      <td>1</td>\n",
       "      <td>sigma</td>\n",
       "      <td>131.278352</td>\n",
       "    </tr>\n",
       "    <tr>\n",
       "      <th>4</th>\n",
       "      <td>0</td>\n",
       "      <td>151.5500</td>\n",
       "      <td>2</td>\n",
       "      <td>1</td>\n",
       "      <td>blue</td>\n",
       "      <td>25.0000</td>\n",
       "      <td>1</td>\n",
       "      <td>sigma</td>\n",
       "      <td>204.415716</td>\n",
       "    </tr>\n",
       "  </tbody>\n",
       "</table>\n",
       "</div>"
      ],
      "text/plain": [
       "   target_var  feature_1  feature_2  feature_3 feature_5  feature_6  \\\n",
       "0           1   211.3375          0          0      blue    29.0000   \n",
       "1           1   151.5500          2          1      pink     0.9167   \n",
       "2           0   151.5500          2          1      blue     2.0000   \n",
       "3           0   151.5500          2          1      pink    30.0000   \n",
       "4           0   151.5500          2          1      blue    25.0000   \n",
       "\n",
       "   feature_7 feature_8   feature_9  \n",
       "0          1     sigma  112.877941  \n",
       "1          1     sigma   60.291423  \n",
       "2          1     sigma  143.794103  \n",
       "3          1     sigma  131.278352  \n",
       "4          1     sigma  204.415716  "
      ]
     },
     "execution_count": 136,
     "metadata": {},
     "output_type": "execute_result"
    }
   ],
   "source": [
    "#Note feature 4 has been dropped due to high number of null values\n",
    "data.head()"
   ]
  },
  {
   "cell_type": "code",
   "execution_count": 137,
   "metadata": {},
   "outputs": [
    {
     "name": "stdout",
     "output_type": "stream",
     "text": [
      "<class 'pandas.core.frame.DataFrame'>\n",
      "Int64Index: 1306 entries, 0 to 1308\n",
      "Data columns (total 9 columns):\n",
      "target_var    1306 non-null int64\n",
      "feature_1     1306 non-null float64\n",
      "feature_2     1306 non-null int64\n",
      "feature_3     1306 non-null int64\n",
      "feature_5     1306 non-null object\n",
      "feature_6     1306 non-null float64\n",
      "feature_7     1306 non-null int64\n",
      "feature_8     1306 non-null object\n",
      "feature_9     1306 non-null float64\n",
      "dtypes: float64(3), int64(4), object(2)\n",
      "memory usage: 91.8+ KB\n"
     ]
    }
   ],
   "source": [
    "#We are checking the dataset after preprocessing our data so far\n",
    "data.info()"
   ]
  },
  {
   "cell_type": "code",
   "execution_count": 138,
   "metadata": {},
   "outputs": [
    {
     "data": {
      "text/plain": [
       "<matplotlib.axes._subplots.AxesSubplot at 0xeac2b90>"
      ]
     },
     "execution_count": 138,
     "metadata": {},
     "output_type": "execute_result"
    },
    {
     "data": {
      "image/png": "[encoded data removed]",
      "text/plain": [
       "<matplotlib.figure.Figure at 0xccb6ff0>"
      ]
     },
     "metadata": {},
     "output_type": "display_data"
    }
   ],
   "source": [
    "#Checking the distribution of feature 8, it is obvious to note we have more occurences of sigma values\n",
    "sns.countplot(x='feature_8', data=data)"
   ]
  },
  {
   "cell_type": "code",
   "execution_count": 139,
   "metadata": {},
   "outputs": [
    {
     "data": {
      "text/plain": [
       "<matplotlib.axes._subplots.AxesSubplot at 0xeac2dd0>"
      ]
     },
     "execution_count": 139,
     "metadata": {},
     "output_type": "execute_result"
    },
    {
     "data": {
      "image/png": "[encoded data removed]",
      "text/plain": [
       "<matplotlib.figure.Figure at 0xe3ee890>"
      ]
     },
     "metadata": {},
     "output_type": "display_data"
    }
   ],
   "source": [
    "#We are checking how feature 1 is distributed, we can note that the less values occue mostly in our dataset.\n",
    "data['feature_1'].hist(bins=40,figsize=(10,4))\n",
    "#axis"
   ]
  },
  {
   "cell_type": "code",
   "execution_count": 140,
   "metadata": {},
   "outputs": [],
   "source": [
    "#data.plot(figsize=(10, 7))\n",
    "#plt.figure(figsize(10,7))\n",
    "   #sns.boxplot(x='feature_8', y='feature_1',data=data)\n",
    "\n",
    "#df = pd.DataFrame(np.random.randn(10,4),\n",
    "#columns=['Col1', 'Col2', 'Col3', 'Col4'])\n",
    "#boxplot = data.boxplot(['feature_1'])"
   ]
  },
  {
   "cell_type": "code",
   "execution_count": 141,
   "metadata": {},
   "outputs": [
    {
     "data": {
      "text/html": [
       "<div>\n",
       "<style scoped>\n",
       "    .dataframe tbody tr th:only-of-type {\n",
       "        vertical-align: middle;\n",
       "    }\n",
       "\n",
       "    .dataframe tbody tr th {\n",
       "        vertical-align: top;\n",
       "    }\n",
       "\n",
       "    .dataframe thead th {\n",
       "        text-align: right;\n",
       "    }\n",
       "</style>\n",
       "<table border=\"1\" class=\"dataframe\">\n",
       "  <thead>\n",
       "    <tr style=\"text-align: right;\">\n",
       "      <th></th>\n",
       "      <th>target_var</th>\n",
       "      <th>feature_1</th>\n",
       "      <th>feature_2</th>\n",
       "      <th>feature_3</th>\n",
       "      <th>feature_5</th>\n",
       "      <th>feature_6</th>\n",
       "      <th>feature_7</th>\n",
       "      <th>feature_8</th>\n",
       "      <th>feature_9</th>\n",
       "    </tr>\n",
       "  </thead>\n",
       "  <tbody>\n",
       "    <tr>\n",
       "      <th>0</th>\n",
       "      <td>1</td>\n",
       "      <td>211.3375</td>\n",
       "      <td>0</td>\n",
       "      <td>0</td>\n",
       "      <td>blue</td>\n",
       "      <td>29.0000</td>\n",
       "      <td>1</td>\n",
       "      <td>sigma</td>\n",
       "      <td>112.877941</td>\n",
       "    </tr>\n",
       "    <tr>\n",
       "      <th>1</th>\n",
       "      <td>1</td>\n",
       "      <td>151.5500</td>\n",
       "      <td>2</td>\n",
       "      <td>1</td>\n",
       "      <td>pink</td>\n",
       "      <td>0.9167</td>\n",
       "      <td>1</td>\n",
       "      <td>sigma</td>\n",
       "      <td>60.291423</td>\n",
       "    </tr>\n",
       "    <tr>\n",
       "      <th>2</th>\n",
       "      <td>0</td>\n",
       "      <td>151.5500</td>\n",
       "      <td>2</td>\n",
       "      <td>1</td>\n",
       "      <td>blue</td>\n",
       "      <td>2.0000</td>\n",
       "      <td>1</td>\n",
       "      <td>sigma</td>\n",
       "      <td>143.794103</td>\n",
       "    </tr>\n",
       "    <tr>\n",
       "      <th>3</th>\n",
       "      <td>0</td>\n",
       "      <td>151.5500</td>\n",
       "      <td>2</td>\n",
       "      <td>1</td>\n",
       "      <td>pink</td>\n",
       "      <td>30.0000</td>\n",
       "      <td>1</td>\n",
       "      <td>sigma</td>\n",
       "      <td>131.278352</td>\n",
       "    </tr>\n",
       "    <tr>\n",
       "      <th>4</th>\n",
       "      <td>0</td>\n",
       "      <td>151.5500</td>\n",
       "      <td>2</td>\n",
       "      <td>1</td>\n",
       "      <td>blue</td>\n",
       "      <td>25.0000</td>\n",
       "      <td>1</td>\n",
       "      <td>sigma</td>\n",
       "      <td>204.415716</td>\n",
       "    </tr>\n",
       "  </tbody>\n",
       "</table>\n",
       "</div>"
      ],
      "text/plain": [
       "   target_var  feature_1  feature_2  feature_3 feature_5  feature_6  \\\n",
       "0           1   211.3375          0          0      blue    29.0000   \n",
       "1           1   151.5500          2          1      pink     0.9167   \n",
       "2           0   151.5500          2          1      blue     2.0000   \n",
       "3           0   151.5500          2          1      pink    30.0000   \n",
       "4           0   151.5500          2          1      blue    25.0000   \n",
       "\n",
       "   feature_7 feature_8   feature_9  \n",
       "0          1     sigma  112.877941  \n",
       "1          1     sigma   60.291423  \n",
       "2          1     sigma  143.794103  \n",
       "3          1     sigma  131.278352  \n",
       "4          1     sigma  204.415716  "
      ]
     },
     "execution_count": 141,
     "metadata": {},
     "output_type": "execute_result"
    }
   ],
   "source": [
    "data.head()"
   ]
  },
  {
   "cell_type": "markdown",
   "metadata": {},
   "source": [
    "### One Hot Encoding"
   ]
  },
  {
   "cell_type": "markdown",
   "metadata": {},
   "source": [
    "I will be using one hot encoding to convert my string/categorical features into numeric,since the model is able to interpret it. One other advantage of choosing one hot encoding is that it does not order the features with their 'importance'."
   ]
  },
  {
   "cell_type": "code",
   "execution_count": 142,
   "metadata": {},
   "outputs": [],
   "source": [
    "#I have used drop_first to avoid multi-collinearity\n",
    "feature_8 = pd.get_dummies(data['feature_8'],drop_first=True)"
   ]
  },
  {
   "cell_type": "code",
   "execution_count": 143,
   "metadata": {},
   "outputs": [],
   "source": [
    "feature_5 = pd.get_dummies(data['feature_5'],drop_first=True)"
   ]
  },
  {
   "cell_type": "code",
   "execution_count": 144,
   "metadata": {},
   "outputs": [],
   "source": [
    "data = pd.concat([data,feature_8,feature_5], axis=1)"
   ]
  },
  {
   "cell_type": "code",
   "execution_count": 145,
   "metadata": {},
   "outputs": [
    {
     "data": {
      "text/html": [
       "<div>\n",
       "<style scoped>\n",
       "    .dataframe tbody tr th:only-of-type {\n",
       "        vertical-align: middle;\n",
       "    }\n",
       "\n",
       "    .dataframe tbody tr th {\n",
       "        vertical-align: top;\n",
       "    }\n",
       "\n",
       "    .dataframe thead th {\n",
       "        text-align: right;\n",
       "    }\n",
       "</style>\n",
       "<table border=\"1\" class=\"dataframe\">\n",
       "  <thead>\n",
       "    <tr style=\"text-align: right;\">\n",
       "      <th></th>\n",
       "      <th>target_var</th>\n",
       "      <th>feature_1</th>\n",
       "      <th>feature_2</th>\n",
       "      <th>feature_3</th>\n",
       "      <th>feature_5</th>\n",
       "      <th>feature_6</th>\n",
       "      <th>feature_7</th>\n",
       "      <th>feature_8</th>\n",
       "      <th>feature_9</th>\n",
       "      <th>qoph</th>\n",
       "      <th>sigma</th>\n",
       "      <th>pink</th>\n",
       "    </tr>\n",
       "  </thead>\n",
       "  <tbody>\n",
       "    <tr>\n",
       "      <th>0</th>\n",
       "      <td>1</td>\n",
       "      <td>211.3375</td>\n",
       "      <td>0</td>\n",
       "      <td>0</td>\n",
       "      <td>blue</td>\n",
       "      <td>29.0000</td>\n",
       "      <td>1</td>\n",
       "      <td>sigma</td>\n",
       "      <td>112.877941</td>\n",
       "      <td>0</td>\n",
       "      <td>1</td>\n",
       "      <td>0</td>\n",
       "    </tr>\n",
       "    <tr>\n",
       "      <th>1</th>\n",
       "      <td>1</td>\n",
       "      <td>151.5500</td>\n",
       "      <td>2</td>\n",
       "      <td>1</td>\n",
       "      <td>pink</td>\n",
       "      <td>0.9167</td>\n",
       "      <td>1</td>\n",
       "      <td>sigma</td>\n",
       "      <td>60.291423</td>\n",
       "      <td>0</td>\n",
       "      <td>1</td>\n",
       "      <td>1</td>\n",
       "    </tr>\n",
       "    <tr>\n",
       "      <th>2</th>\n",
       "      <td>0</td>\n",
       "      <td>151.5500</td>\n",
       "      <td>2</td>\n",
       "      <td>1</td>\n",
       "      <td>blue</td>\n",
       "      <td>2.0000</td>\n",
       "      <td>1</td>\n",
       "      <td>sigma</td>\n",
       "      <td>143.794103</td>\n",
       "      <td>0</td>\n",
       "      <td>1</td>\n",
       "      <td>0</td>\n",
       "    </tr>\n",
       "    <tr>\n",
       "      <th>3</th>\n",
       "      <td>0</td>\n",
       "      <td>151.5500</td>\n",
       "      <td>2</td>\n",
       "      <td>1</td>\n",
       "      <td>pink</td>\n",
       "      <td>30.0000</td>\n",
       "      <td>1</td>\n",
       "      <td>sigma</td>\n",
       "      <td>131.278352</td>\n",
       "      <td>0</td>\n",
       "      <td>1</td>\n",
       "      <td>1</td>\n",
       "    </tr>\n",
       "    <tr>\n",
       "      <th>4</th>\n",
       "      <td>0</td>\n",
       "      <td>151.5500</td>\n",
       "      <td>2</td>\n",
       "      <td>1</td>\n",
       "      <td>blue</td>\n",
       "      <td>25.0000</td>\n",
       "      <td>1</td>\n",
       "      <td>sigma</td>\n",
       "      <td>204.415716</td>\n",
       "      <td>0</td>\n",
       "      <td>1</td>\n",
       "      <td>0</td>\n",
       "    </tr>\n",
       "  </tbody>\n",
       "</table>\n",
       "</div>"
      ],
      "text/plain": [
       "   target_var  feature_1  feature_2  feature_3 feature_5  feature_6  \\\n",
       "0           1   211.3375          0          0      blue    29.0000   \n",
       "1           1   151.5500          2          1      pink     0.9167   \n",
       "2           0   151.5500          2          1      blue     2.0000   \n",
       "3           0   151.5500          2          1      pink    30.0000   \n",
       "4           0   151.5500          2          1      blue    25.0000   \n",
       "\n",
       "   feature_7 feature_8   feature_9  qoph  sigma  pink  \n",
       "0          1     sigma  112.877941     0      1     0  \n",
       "1          1     sigma   60.291423     0      1     1  \n",
       "2          1     sigma  143.794103     0      1     0  \n",
       "3          1     sigma  131.278352     0      1     1  \n",
       "4          1     sigma  204.415716     0      1     0  "
      ]
     },
     "execution_count": 145,
     "metadata": {},
     "output_type": "execute_result"
    }
   ],
   "source": [
    "data.head()"
   ]
  },
  {
   "cell_type": "code",
   "execution_count": 146,
   "metadata": {},
   "outputs": [],
   "source": [
    "data.drop(['feature_8','feature_5'],axis=1, inplace=True)"
   ]
  },
  {
   "cell_type": "code",
   "execution_count": 147,
   "metadata": {},
   "outputs": [
    {
     "data": {
      "text/html": [
       "<div>\n",
       "<style scoped>\n",
       "    .dataframe tbody tr th:only-of-type {\n",
       "        vertical-align: middle;\n",
       "    }\n",
       "\n",
       "    .dataframe tbody tr th {\n",
       "        vertical-align: top;\n",
       "    }\n",
       "\n",
       "    .dataframe thead th {\n",
       "        text-align: right;\n",
       "    }\n",
       "</style>\n",
       "<table border=\"1\" class=\"dataframe\">\n",
       "  <thead>\n",
       "    <tr style=\"text-align: right;\">\n",
       "      <th></th>\n",
       "      <th>target_var</th>\n",
       "      <th>feature_1</th>\n",
       "      <th>feature_2</th>\n",
       "      <th>feature_3</th>\n",
       "      <th>feature_6</th>\n",
       "      <th>feature_7</th>\n",
       "      <th>feature_9</th>\n",
       "      <th>qoph</th>\n",
       "      <th>sigma</th>\n",
       "      <th>pink</th>\n",
       "    </tr>\n",
       "  </thead>\n",
       "  <tbody>\n",
       "    <tr>\n",
       "      <th>0</th>\n",
       "      <td>1</td>\n",
       "      <td>211.3375</td>\n",
       "      <td>0</td>\n",
       "      <td>0</td>\n",
       "      <td>29.0000</td>\n",
       "      <td>1</td>\n",
       "      <td>112.877941</td>\n",
       "      <td>0</td>\n",
       "      <td>1</td>\n",
       "      <td>0</td>\n",
       "    </tr>\n",
       "    <tr>\n",
       "      <th>1</th>\n",
       "      <td>1</td>\n",
       "      <td>151.5500</td>\n",
       "      <td>2</td>\n",
       "      <td>1</td>\n",
       "      <td>0.9167</td>\n",
       "      <td>1</td>\n",
       "      <td>60.291423</td>\n",
       "      <td>0</td>\n",
       "      <td>1</td>\n",
       "      <td>1</td>\n",
       "    </tr>\n",
       "    <tr>\n",
       "      <th>2</th>\n",
       "      <td>0</td>\n",
       "      <td>151.5500</td>\n",
       "      <td>2</td>\n",
       "      <td>1</td>\n",
       "      <td>2.0000</td>\n",
       "      <td>1</td>\n",
       "      <td>143.794103</td>\n",
       "      <td>0</td>\n",
       "      <td>1</td>\n",
       "      <td>0</td>\n",
       "    </tr>\n",
       "    <tr>\n",
       "      <th>3</th>\n",
       "      <td>0</td>\n",
       "      <td>151.5500</td>\n",
       "      <td>2</td>\n",
       "      <td>1</td>\n",
       "      <td>30.0000</td>\n",
       "      <td>1</td>\n",
       "      <td>131.278352</td>\n",
       "      <td>0</td>\n",
       "      <td>1</td>\n",
       "      <td>1</td>\n",
       "    </tr>\n",
       "    <tr>\n",
       "      <th>4</th>\n",
       "      <td>0</td>\n",
       "      <td>151.5500</td>\n",
       "      <td>2</td>\n",
       "      <td>1</td>\n",
       "      <td>25.0000</td>\n",
       "      <td>1</td>\n",
       "      <td>204.415716</td>\n",
       "      <td>0</td>\n",
       "      <td>1</td>\n",
       "      <td>0</td>\n",
       "    </tr>\n",
       "  </tbody>\n",
       "</table>\n",
       "</div>"
      ],
      "text/plain": [
       "   target_var  feature_1  feature_2  feature_3  feature_6  feature_7  \\\n",
       "0           1   211.3375          0          0    29.0000          1   \n",
       "1           1   151.5500          2          1     0.9167          1   \n",
       "2           0   151.5500          2          1     2.0000          1   \n",
       "3           0   151.5500          2          1    30.0000          1   \n",
       "4           0   151.5500          2          1    25.0000          1   \n",
       "\n",
       "    feature_9  qoph  sigma  pink  \n",
       "0  112.877941     0      1     0  \n",
       "1   60.291423     0      1     1  \n",
       "2  143.794103     0      1     0  \n",
       "3  131.278352     0      1     1  \n",
       "4  204.415716     0      1     0  "
      ]
     },
     "execution_count": 147,
     "metadata": {},
     "output_type": "execute_result"
    }
   ],
   "source": [
    "data.head()"
   ]
  },
  {
   "cell_type": "markdown",
   "metadata": {},
   "source": [
    "## Predictive modeling"
   ]
  },
  {
   "cell_type": "markdown",
   "metadata": {},
   "source": [
    "I believe my data is shaped adequately to move to predictive modeling to check which model performs best on my data."
   ]
  },
  {
   "cell_type": "code",
   "execution_count": 148,
   "metadata": {},
   "outputs": [],
   "source": [
    "#Initializing my variables\n",
    "X = data.drop('target_var',axis=1)\n",
    "y = data['target_var']"
   ]
  },
  {
   "cell_type": "code",
   "execution_count": 149,
   "metadata": {},
   "outputs": [],
   "source": [
    "# I have chosen to use 80% of my data for training and 20% for testing \n",
    "X_train, X_test, y_train, y_test = train_test_split(X, y, test_size=0.20, random_state=101)"
   ]
  },
  {
   "cell_type": "code",
   "execution_count": 150,
   "metadata": {},
   "outputs": [],
   "source": [
    "#Models to be tested\n",
    "names = ['Logistic Regression', 'Nearest Neighbors',\n",
    "         'Linear SVM', 'RBF SVM',\n",
    "         'Naive Bayes', 'Gradient Boosting', \"Decision Tree\",\n",
    "         \"Random Forest\",  \"AdaBoost\",\n",
    "         \"Neural Net\",]"
   ]
  },
  {
   "cell_type": "code",
   "execution_count": 151,
   "metadata": {},
   "outputs": [],
   "source": [
    "classifiers = [\n",
    "    LogisticRegression(),\n",
    "    KNeighborsClassifier(3),\n",
    "    SVC(kernel='linear',C=0.1,gamma=0.1),\n",
    "    SVC(kernel='rbf',C=1,gamma=0.1),\n",
    "    GaussianNB(),\n",
    "    GradientBoostingClassifier(),\n",
    "    DecisionTreeClassifier(max_depth=5),\n",
    "    RandomForestClassifier(max_depth=5, n_estimators=150, max_features=1,random_state=15325),\n",
    "    AdaBoostClassifier(),\n",
    "    MLPClassifier(alpha=1),\n",
    "]"
   ]
  },
  {
   "cell_type": "code",
   "execution_count": 152,
   "metadata": {},
   "outputs": [
    {
     "name": "stdout",
     "output_type": "stream",
     "text": [
      "Fitting Logistic Regression model...\n",
      "... predicting\n",
      "... scoring\n",
      "Fitting Nearest Neighbors model...\n",
      "... predicting\n",
      "... scoring\n",
      "Fitting Linear SVM model...\n",
      "... predicting\n",
      "... scoring\n",
      "Fitting RBF SVM model...\n",
      "... predicting\n",
      "... scoring\n",
      "Fitting Naive Bayes model...\n",
      "... predicting\n",
      "... scoring\n",
      "Fitting Gradient Boosting model...\n",
      "... predicting\n",
      "... scoring\n",
      "Fitting Decision Tree model...\n",
      "... predicting\n",
      "... scoring\n",
      "Fitting Random Forest model...\n",
      "... predicting\n",
      "... scoring\n",
      "Fitting AdaBoost model...\n",
      "... predicting\n",
      "... scoring\n",
      "Fitting Neural Net model...\n",
      "... predicting\n",
      "... scoring\n"
     ]
    }
   ],
   "source": [
    "results = []\n",
    "\n",
    "models = {}\n",
    "confusion = {}\n",
    "class_report = {}\n",
    "\n",
    "\n",
    "for name, clf in zip(names, classifiers):\n",
    "    print ('Fitting {:s} model...'.format(name))\n",
    "    run_time = %timeit -q -o clf.fit(X_train, y_train)\n",
    "\n",
    "    print ('... predicting')\n",
    "    y_pred = clf.predict(X_train)\n",
    "    y_pred_test = clf.predict(X_test)\n",
    "\n",
    "    print ('... scoring')\n",
    "    accuracy  = metrics.accuracy_score(y_train, y_pred)\n",
    "    precision = metrics.precision_score(y_train, y_pred)\n",
    "    recall    = metrics.recall_score(y_train, y_pred)\n",
    "\n",
    "    f1        = metrics.f1_score(y_train, y_pred)\n",
    "    f1_test   = metrics.f1_score(y_test, y_pred_test)\n",
    "\n",
    "    # save the results to dictionaries\n",
    "    models[name] = clf\n",
    "    confusion[name] = metrics.confusion_matrix(y_train, y_pred)\n",
    "    class_report[name] = metrics.classification_report(y_train, y_pred)\n",
    "\n",
    "    results.append([name, accuracy, precision, recall, f1, f1_test, run_time.best])\n",
    "\n",
    "\n",
    "results = pd.DataFrame(results, columns=['Classifier', 'Accuracy', 'Precision', 'Recall', 'F1 Train', 'F1 Test', 'Train Time'])\n",
    "results.set_index('Classifier', inplace= True)"
   ]
  },
  {
   "cell_type": "code",
   "execution_count": 153,
   "metadata": {},
   "outputs": [
    {
     "data": {
      "text/html": [
       "<div>\n",
       "<style scoped>\n",
       "    .dataframe tbody tr th:only-of-type {\n",
       "        vertical-align: middle;\n",
       "    }\n",
       "\n",
       "    .dataframe tbody tr th {\n",
       "        vertical-align: top;\n",
       "    }\n",
       "\n",
       "    .dataframe thead th {\n",
       "        text-align: right;\n",
       "    }\n",
       "</style>\n",
       "<table border=\"1\" class=\"dataframe\">\n",
       "  <thead>\n",
       "    <tr style=\"text-align: right;\">\n",
       "      <th></th>\n",
       "      <th>Accuracy</th>\n",
       "      <th>Precision</th>\n",
       "      <th>Recall</th>\n",
       "      <th>F1 Train</th>\n",
       "      <th>F1 Test</th>\n",
       "      <th>Train Time</th>\n",
       "    </tr>\n",
       "    <tr>\n",
       "      <th>Classifier</th>\n",
       "      <th></th>\n",
       "      <th></th>\n",
       "      <th></th>\n",
       "      <th></th>\n",
       "      <th></th>\n",
       "      <th></th>\n",
       "    </tr>\n",
       "  </thead>\n",
       "  <tbody>\n",
       "    <tr>\n",
       "      <th>Gradient Boosting</th>\n",
       "      <td>0.894636</td>\n",
       "      <td>0.937685</td>\n",
       "      <td>0.780247</td>\n",
       "      <td>0.851752</td>\n",
       "      <td>0.723164</td>\n",
       "      <td>0.229123</td>\n",
       "    </tr>\n",
       "    <tr>\n",
       "      <th>AdaBoost</th>\n",
       "      <td>0.818008</td>\n",
       "      <td>0.783641</td>\n",
       "      <td>0.733333</td>\n",
       "      <td>0.757653</td>\n",
       "      <td>0.722513</td>\n",
       "      <td>0.198967</td>\n",
       "    </tr>\n",
       "    <tr>\n",
       "      <th>Naive Bayes</th>\n",
       "      <td>0.778736</td>\n",
       "      <td>0.719697</td>\n",
       "      <td>0.703704</td>\n",
       "      <td>0.711610</td>\n",
       "      <td>0.720000</td>\n",
       "      <td>0.002041</td>\n",
       "    </tr>\n",
       "    <tr>\n",
       "      <th>Logistic Regression</th>\n",
       "      <td>0.785441</td>\n",
       "      <td>0.742627</td>\n",
       "      <td>0.683951</td>\n",
       "      <td>0.712082</td>\n",
       "      <td>0.714286</td>\n",
       "      <td>0.009035</td>\n",
       "    </tr>\n",
       "    <tr>\n",
       "      <th>Linear SVM</th>\n",
       "      <td>0.778736</td>\n",
       "      <td>0.740331</td>\n",
       "      <td>0.661728</td>\n",
       "      <td>0.698827</td>\n",
       "      <td>0.707692</td>\n",
       "      <td>98.112793</td>\n",
       "    </tr>\n",
       "    <tr>\n",
       "      <th>Random Forest</th>\n",
       "      <td>0.832375</td>\n",
       "      <td>0.907801</td>\n",
       "      <td>0.632099</td>\n",
       "      <td>0.745269</td>\n",
       "      <td>0.690909</td>\n",
       "      <td>0.461885</td>\n",
       "    </tr>\n",
       "    <tr>\n",
       "      <th>Decision Tree</th>\n",
       "      <td>0.825670</td>\n",
       "      <td>0.937255</td>\n",
       "      <td>0.590123</td>\n",
       "      <td>0.724242</td>\n",
       "      <td>0.683544</td>\n",
       "      <td>0.004275</td>\n",
       "    </tr>\n",
       "    <tr>\n",
       "      <th>Nearest Neighbors</th>\n",
       "      <td>0.802682</td>\n",
       "      <td>0.775623</td>\n",
       "      <td>0.691358</td>\n",
       "      <td>0.731070</td>\n",
       "      <td>0.527473</td>\n",
       "      <td>0.003591</td>\n",
       "    </tr>\n",
       "    <tr>\n",
       "      <th>Neural Net</th>\n",
       "      <td>0.683908</td>\n",
       "      <td>0.941176</td>\n",
       "      <td>0.197531</td>\n",
       "      <td>0.326531</td>\n",
       "      <td>0.429752</td>\n",
       "      <td>0.151935</td>\n",
       "    </tr>\n",
       "    <tr>\n",
       "      <th>RBF SVM</th>\n",
       "      <td>0.961686</td>\n",
       "      <td>1.000000</td>\n",
       "      <td>0.901235</td>\n",
       "      <td>0.948052</td>\n",
       "      <td>0.076190</td>\n",
       "      <td>0.286506</td>\n",
       "    </tr>\n",
       "  </tbody>\n",
       "</table>\n",
       "</div>"
      ],
      "text/plain": [
       "                     Accuracy  Precision    Recall  F1 Train   F1 Test  \\\n",
       "Classifier                                                               \n",
       "Gradient Boosting    0.894636   0.937685  0.780247  0.851752  0.723164   \n",
       "AdaBoost             0.818008   0.783641  0.733333  0.757653  0.722513   \n",
       "Naive Bayes          0.778736   0.719697  0.703704  0.711610  0.720000   \n",
       "Logistic Regression  0.785441   0.742627  0.683951  0.712082  0.714286   \n",
       "Linear SVM           0.778736   0.740331  0.661728  0.698827  0.707692   \n",
       "Random Forest        0.832375   0.907801  0.632099  0.745269  0.690909   \n",
       "Decision Tree        0.825670   0.937255  0.590123  0.724242  0.683544   \n",
       "Nearest Neighbors    0.802682   0.775623  0.691358  0.731070  0.527473   \n",
       "Neural Net           0.683908   0.941176  0.197531  0.326531  0.429752   \n",
       "RBF SVM              0.961686   1.000000  0.901235  0.948052  0.076190   \n",
       "\n",
       "                     Train Time  \n",
       "Classifier                       \n",
       "Gradient Boosting      0.229123  \n",
       "AdaBoost               0.198967  \n",
       "Naive Bayes            0.002041  \n",
       "Logistic Regression    0.009035  \n",
       "Linear SVM            98.112793  \n",
       "Random Forest          0.461885  \n",
       "Decision Tree          0.004275  \n",
       "Nearest Neighbors      0.003591  \n",
       "Neural Net             0.151935  \n",
       "RBF SVM                0.286506  "
      ]
     },
     "execution_count": 153,
     "metadata": {},
     "output_type": "execute_result"
    }
   ],
   "source": [
    "results.sort_values('F1 Test', ascending=False)"
   ]
  },
  {
   "cell_type": "code",
   "execution_count": 154,
   "metadata": {},
   "outputs": [
    {
     "data": {
      "text/plain": [
       "<matplotlib.axes._subplots.AxesSubplot at 0xe465f50>"
      ]
     },
     "execution_count": 154,
     "metadata": {},
     "output_type": "execute_result"
    },
    {
     "data": {
      "image/png": "[encoded data removed]",
      "text/plain": [
       "<matplotlib.figure.Figure at 0xd0d48b0>"
      ]
     },
     "metadata": {},
     "output_type": "display_data"
    }
   ],
   "source": [
    "fig, ax = plt.subplots(1, 2, figsize=(10, 5))\n",
    "results.sort_values('F1 Train', ascending=False, inplace=True)\n",
    "results.plot(y=['F1 Test'], kind='bar', ax=ax[0], xlim=[0,1.1])\n",
    "results.plot(y='Train Time', kind='bar', ax=ax[1])"
   ]
  },
  {
   "cell_type": "markdown",
   "metadata": {},
   "source": [
    "### Confusion matrix"
   ]
  },
  {
   "cell_type": "code",
   "execution_count": 155,
   "metadata": {},
   "outputs": [
    {
     "data": {
      "text/plain": [
       "array([[543,  96],\n",
       "       [128, 277]], dtype=int64)"
      ]
     },
     "execution_count": 155,
     "metadata": {},
     "output_type": "execute_result"
    }
   ],
   "source": [
    "confusion['Logistic Regression']"
   ]
  },
  {
   "cell_type": "code",
   "execution_count": 156,
   "metadata": {},
   "outputs": [
    {
     "data": {
      "text/plain": [
       "array([[618,  21],\n",
       "       [ 89, 316]], dtype=int64)"
      ]
     },
     "execution_count": 156,
     "metadata": {},
     "output_type": "execute_result"
    }
   ],
   "source": [
    "confusion['Gradient Boosting']"
   ]
  },
  {
   "cell_type": "markdown",
   "metadata": {},
   "source": [
    "### Classification report"
   ]
  },
  {
   "cell_type": "code",
   "execution_count": 157,
   "metadata": {},
   "outputs": [
    {
     "name": "stdout",
     "output_type": "stream",
     "text": [
      "             precision    recall  f1-score   support\n",
      "\n",
      "          0       0.87      0.97      0.92       639\n",
      "          1       0.94      0.78      0.85       405\n",
      "\n",
      "avg / total       0.90      0.89      0.89      1044\n",
      "\n"
     ]
    }
   ],
   "source": [
    "print(class_report['Gradient Boosting'])"
   ]
  },
  {
   "cell_type": "markdown",
   "metadata": {},
   "source": [
    "---"
   ]
  },
  {
   "cell_type": "markdown",
   "metadata": {},
   "source": [
    "---"
   ]
  },
  {
   "cell_type": "markdown",
   "metadata": {},
   "source": [
    "## Technical summary\n"
   ]
  },
  {
   "cell_type": "markdown",
   "metadata": {},
   "source": [
    "I have decided to use RBF as my final model, the reasons being that is was 1. quickly to train, performed very good with the F score\n",
    "\n",
    "I have decided to use the F1 score to evaluate my model, which basically gives me the mean of the precision and recall  and according to it I have discovered that --- is the best model so far. Using the classification accuracy alone is not sufficient, hence I have used the F1 score. Although there are many ways I could have improved my model like using the **Hyperparameter Tuning** to perform a grid search and investigate which parameters are good for the model and **Cross validation** for splitting our data accurately as opposed to using a train test split which may sometimes be bias on the data we have, especially if it is unbalanced. K fold would have been a great way to split my data and Grid search would have given me the best parameters. \n",
    "\n",
    "But I had to consider the machine I was using, if I was working on a GPU cluster,or had the best machine to run my model locally I believe it would have performed very quickly and I would not have considered the training time my model was going to take.\n",
    "\n",
    "The classification report just shows me the precision, recall and f1 score.\n",
    "The confusionmattrix allows me to llok at a particular misclasasified values."
   ]
  },
  {
   "cell_type": "markdown",
   "metadata": {},
   "source": [
    "# Executive summary"
   ]
  },
  {
   "cell_type": "markdown",
   "metadata": {},
   "source": [
    "Please note that the summary is being made using **Gradient Boosting** model since it is the best performing model so far relative to all the models we have tested. \n",
    "\n",
    "For understanding purposes, I will be using the following variables:\n",
    "\n",
    "0:No\n",
    "\n",
    "\n",
    "1:Yes\n",
    "\n",
    "R20 000 per misclassified cases\n",
    "R1000 per correctly classified cases\n",
    "\n",
    "For all predictions we claasified no whereas it was a yes, in total the company will be cost: (618+316)* R1 000 = R934 000.\n",
    "\n",
    "For all misclassifications: Where a company said yes, whereas it was a no, it cost the company: (21+89)*R20 000 = R2 200 000\n",
    "\n",
    "So reducing an error will be very important in order to mitigate on the costs incurring by the company for all th misclassifications our model is having"
   ]
  },
  {
   "cell_type": "code",
   "execution_count": null,
   "metadata": {},
   "outputs": [],
   "source": []
  }
 ],
 "metadata": {
  "kernelspec": {
   "display_name": "Python 3",
   "language": "python",
   "name": "python3"
  },
  "language_info": {
   "codemirror_mode": {
    "name": "ipython",
    "version": 3
   },
   "file_extension": ".py",
   "mimetype": "text/x-python",
   "name": "python",
   "nbconvert_exporter": "python",
   "pygments_lexer": "ipython3",
   "version": "3.6.4"
  }
 },
 "nbformat": 4,
 "nbformat_minor": 2
}
